{
 "cells": [
  {
   "cell_type": "markdown",
   "id": "51ed2cf6",
   "metadata": {},
   "source": [
    "## Условие 1:"
   ]
  },
  {
   "cell_type": "markdown",
   "id": "ebd4fd7c",
   "metadata": {},
   "source": [
    "Оформляйте ноутбук, используя эти советы:\n",
    "- Номер задачи - заголовок 2\n",
    "- Номер подзадачи - заголовок 3\n",
    "- Предоставленные наборы данных оформляйте, как код\n",
    "\n",
    "Рекомендации для преподавателей по оценке задания:\n",
    "- Смотреть, чтобы студент красиво оформлял ноутбук, использовал ячейки с текстом, указывал номера заданий"
   ]
  },
  {
   "cell_type": "markdown",
   "id": "4b977269",
   "metadata": {},
   "source": [
    "## Условие 2:"
   ]
  },
  {
   "cell_type": "markdown",
   "id": "3e2ab89c",
   "metadata": {},
   "source": [
    "На складе лежат разные фрукты в разном количестве.\n",
    "Нужно написать функцию, которая на вход принимает любое количество названий фруктов и их количество,\n",
    "а возвращает общее количество фруктов на складе"
   ]
  },
  {
   "cell_type": "code",
   "execution_count": 29,
   "id": "f517b594",
   "metadata": {},
   "outputs": [
    {
     "name": "stdout",
     "output_type": "stream",
     "text": [
      "18\n"
     ]
    }
   ],
   "source": [
    "def sum_fruits(**fruits):\n",
    "    result = 0\n",
    "    result = sum(result + i for i in fruits.values())\n",
    "    return result\n",
    "\n",
    "print(sum_fruits(apple = 6, pear = 2, orange = 10))"
   ]
  },
  {
   "cell_type": "markdown",
   "id": "08314466",
   "metadata": {},
   "source": [
    "## Условие 3:"
   ]
  },
  {
   "cell_type": "markdown",
   "id": "b9347e12",
   "metadata": {},
   "source": [
    "Дан список с затратами на рекламу. Но в данных есть ошибки, некоторые затраты имеют отрицательную величину. \n",
    "Удалите такие значения из списка и посчитайте суммарные затраты\n",
    "\n",
    "[100, 125, -90, 345, 655, -1, 0, 200]\n",
    "\n",
    "Используйте list comprehensions"
   ]
  },
  {
   "cell_type": "code",
   "execution_count": 3,
   "id": "fc0719f5",
   "metadata": {},
   "outputs": [
    {
     "name": "stdout",
     "output_type": "stream",
     "text": [
      "1425\n"
     ]
    }
   ],
   "source": [
    "cost_list = [100, 125, -90, 345, 655, -1, 0, 200]\n",
    "new_list = [i for i in cost_list if i > 0]\n",
    "\n",
    "print(sum(new_list))"
   ]
  },
  {
   "cell_type": "markdown",
   "id": "0a7945b4",
   "metadata": {},
   "source": [
    "## Условие 4:"
   ]
  },
  {
   "cell_type": "markdown",
   "id": "3581d5c6",
   "metadata": {},
   "source": [
    "Даны два списка.\n",
    "\n",
    "Дата покупки\n",
    "\n",
    "['2021-09-14', '2021-12-15', '2021-09-08', '2021-12-05', '2021-10-09', '2021-09-30', '2021-12-22', '2021-11-29', '2021-12-24', '2021-11-26', '2021-10-27', '2021-12-18', '2021-11-09', '2021-11-23', '2021-09-27', '2021-10-02', '2021-12-27', '2021-09-20', '2021-12-13', '2021-11-01', '2021-11-09', '2021-12-06', '2021-12-08', '2021-10-09', '2021-10-31', '2021-09-30', '2021-11-09', '2021-12-13', '2021-10-26', '2021-12-09']\n",
    "\n",
    "Суммы покупок по датам\n",
    "\n",
    "[1270, 8413, 9028, 3703, 5739, 4095, 295, 4944, 5723, 3701, 4471, 651, 7037, 4274, 6275, 4988, 6930, 2971, 6592, 2004, 2822, 519, 3406, 2732, 5015, 2008, 316, 6333, 5700, 2887]"
   ]
  },
  {
   "cell_type": "markdown",
   "id": "41cf3f23",
   "metadata": {},
   "source": [
    "### 4.1 Найдите, какая выручка у компании в ноябре\n",
    "\n",
    "Используйте list comprehensions"
   ]
  },
  {
   "cell_type": "code",
   "execution_count": 14,
   "id": "339b8c65",
   "metadata": {},
   "outputs": [
    {
     "name": "stdout",
     "output_type": "stream",
     "text": [
      "25098\n"
     ]
    }
   ],
   "source": [
    "date_of_purchase = ['2021-09-14', '2021-12-15', '2021-09-08', '2021-12-05', '2021-10-09', '2021-09-30', '2021-12-22', \n",
    "                    '2021-11-29', '2021-12-24', '2021-11-26', '2021-10-27', '2021-12-18', '2021-11-09', '2021-11-23', \n",
    "                    '2021-09-27', '2021-10-02', '2021-12-27', '2021-09-20', '2021-12-13', '2021-11-01', '2021-11-09', \n",
    "                    '2021-12-06', '2021-12-08', '2021-10-09', '2021-10-31', '2021-09-30', '2021-11-09', '2021-12-13',\n",
    "                    '2021-10-26', '2021-12-09']\n",
    "sum_of_purchase = [1270, 8413, 9028, 3703, 5739, 4095, 295, 4944, 5723, 3701, \n",
    "                   4471, 651, 7037, 4274, 6275, 4988, 6930, 2971, 6592, 2004, \n",
    "                   2822, 519, 3406, 2732, 5015, 2008, 316, 6333, 5700, 2887]\n",
    "\n",
    "print(sum([sum_of_purchase[i] for i in range(len(date_of_purchase)) if '-11-' in date_of_purchase[i]]))"
   ]
  },
  {
   "cell_type": "markdown",
   "id": "20eb518f",
   "metadata": {},
   "source": [
    "### 4.2 Найдите выручку компании в зависимости от месяца\n",
    "Для этого напишите функцию, которая на вход принимает список с датами и список с выручкой,\n",
    "а на выходе словарь, где ключи - это месяцы, а значения - это выручка.\n",
    "\n",
    "Используйте аннотирование типов."
   ]
  },
  {
   "cell_type": "code",
   "execution_count": 27,
   "id": "20d765cd",
   "metadata": {},
   "outputs": [
    {
     "data": {
      "text/plain": [
       "{'09': 25647, '12': 45452, '10': 28645, '11': 25098}"
      ]
     },
     "execution_count": 27,
     "metadata": {},
     "output_type": "execute_result"
    }
   ],
   "source": [
    "def revenue_of_month(date_of_purchase: list, sum_of_purchase: list) -> dict:\n",
    "    result = {}\n",
    "    for i in range(len(date_of_purchase)):\n",
    "        month = date_of_purchase[i].split('-')[1]\n",
    "        if month in result.keys():\n",
    "            result[month] += sum_of_purchase[i]\n",
    "        else:\n",
    "            result[month] = sum_of_purchase[i]\n",
    "            \n",
    "    return result\n",
    " \n",
    "revenue_of_month(date_of_purchase, sum_of_purchase)"
   ]
  }
 ],
 "metadata": {
  "kernelspec": {
   "display_name": "Python 3 (ipykernel)",
   "language": "python",
   "name": "python3"
  },
  "language_info": {
   "codemirror_mode": {
    "name": "ipython",
    "version": 3
   },
   "file_extension": ".py",
   "mimetype": "text/x-python",
   "name": "python",
   "nbconvert_exporter": "python",
   "pygments_lexer": "ipython3",
   "version": "3.9.13"
  }
 },
 "nbformat": 4,
 "nbformat_minor": 5
}
